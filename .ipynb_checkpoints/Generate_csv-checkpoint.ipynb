{
 "cells": [
  {
   "cell_type": "code",
   "execution_count": 36,
   "metadata": {},
   "outputs": [],
   "source": [
    "# Import Libraries\n",
    "import pandas as pd\n",
    "import datetime\n",
    "from datetime import datetime as dt"
   ]
  },
  {
   "cell_type": "markdown",
   "metadata": {},
   "source": [
    "### Generate csv files from reference text dataset files"
   ]
  },
  {
   "cell_type": "markdown",
   "metadata": {},
   "source": [
    "#### CSV files : November 2013"
   ]
  },
  {
   "cell_type": "code",
   "execution_count": 81,
   "metadata": {},
   "outputs": [
    {
     "name": "stderr",
     "output_type": "stream",
     "text": [
      "C:\\Users\\aujas\\AppData\\Local\\Programs\\Python\\Python37\\lib\\site-packages\\ipykernel_launcher.py:7: FutureWarning: pd.TimeGrouper is deprecated and will be removed; Please use pd.Grouper(freq=...)\n",
      "  import sys\n"
     ]
    }
   ],
   "source": [
    "for i in range(1,10):\n",
    "    df = pd.read_csv('sms-call-internet-mi-2013-11-0{}.txt'.format(i), sep='\\t', encoding=\"utf-8-sig\", header=None, \n",
    "                 names=['squareid', 'datetime', 'countrycode', 'smsin','smsout','callin','callout','internet'],\n",
    "                parse_dates=['datetime'], date_parser=lambda x: datetime.datetime.fromtimestamp(float(int(x)/1000.)))\n",
    "    df = df.set_index('datetime')\n",
    "    df = df.fillna(0)\n",
    "    df = df.groupby([pd.TimeGrouper(freq='60Min'), 'squareid', 'countrycode']).sum()\n",
    "    df.to_csv('sms-call-internet-mi-2013-11-0{}.csv'.format(i))"
   ]
  },
  {
   "cell_type": "code",
   "execution_count": 82,
   "metadata": {},
   "outputs": [
    {
     "name": "stderr",
     "output_type": "stream",
     "text": [
      "C:\\Users\\aujas\\AppData\\Local\\Programs\\Python\\Python37\\lib\\site-packages\\ipykernel_launcher.py:7: FutureWarning: pd.TimeGrouper is deprecated and will be removed; Please use pd.Grouper(freq=...)\n",
      "  import sys\n"
     ]
    }
   ],
   "source": [
    "for i in range(0,10):\n",
    "    df = pd.read_csv('sms-call-internet-mi-2013-11-1{}.txt'.format(i), sep='\\t', encoding=\"utf-8-sig\", header=None, \n",
    "                 names=['squareid', 'datetime', 'countrycode', 'smsin','smsout','callin','callout','internet'],\n",
    "                parse_dates=['datetime'], date_parser=lambda x: datetime.datetime.fromtimestamp(float(int(x)/1000.)))\n",
    "    df = df.set_index('datetime')\n",
    "    df = df.fillna(0)\n",
    "    df = df.groupby([pd.TimeGrouper(freq='60Min'), 'squareid', 'countrycode']).sum()\n",
    "    df.to_csv('sms-call-internet-mi-2013-11-1{}.csv'.format(i))"
   ]
  },
  {
   "cell_type": "code",
   "execution_count": 83,
   "metadata": {},
   "outputs": [
    {
     "name": "stderr",
     "output_type": "stream",
     "text": [
      "C:\\Users\\aujas\\AppData\\Local\\Programs\\Python\\Python37\\lib\\site-packages\\ipykernel_launcher.py:7: FutureWarning: pd.TimeGrouper is deprecated and will be removed; Please use pd.Grouper(freq=...)\n",
      "  import sys\n"
     ]
    }
   ],
   "source": [
    "for i in range(0,10):\n",
    "    df = pd.read_csv('sms-call-internet-mi-2013-11-2{}.txt'.format(i), sep='\\t', encoding=\"utf-8-sig\", header=None, \n",
    "                 names=['squareid', 'datetime', 'countrycode', 'smsin','smsout','callin','callout','internet'],\n",
    "                parse_dates=['datetime'], date_parser=lambda x: datetime.datetime.fromtimestamp(float(int(x)/1000.)))\n",
    "    df = df.set_index('datetime')\n",
    "    df = df.fillna(0)\n",
    "    df = df.groupby([pd.TimeGrouper(freq='60Min'), 'squareid', 'countrycode']).sum()\n",
    "    df.to_csv('sms-call-internet-mi-2013-11-2{}.csv'.format(i))"
   ]
  },
  {
   "cell_type": "markdown",
   "metadata": {},
   "source": [
    "#### CSV files: December 2013"
   ]
  },
  {
   "cell_type": "code",
   "execution_count": 84,
   "metadata": {},
   "outputs": [
    {
     "name": "stderr",
     "output_type": "stream",
     "text": [
      "C:\\Users\\aujas\\AppData\\Local\\Programs\\Python\\Python37\\lib\\site-packages\\ipykernel_launcher.py:7: FutureWarning: pd.TimeGrouper is deprecated and will be removed; Please use pd.Grouper(freq=...)\n",
      "  import sys\n"
     ]
    }
   ],
   "source": [
    "for i in range(1,10):\n",
    "    df = pd.read_csv('sms-call-internet-mi-2013-12-0{}.txt'.format(i), sep='\\t', encoding=\"utf-8-sig\", header=None, \n",
    "                 names=['squareid', 'datetime', 'countrycode', 'smsin','smsout','callin','callout','internet'],\n",
    "                parse_dates=['datetime'], date_parser=lambda x: datetime.datetime.fromtimestamp(float(int(x)/1000.)))\n",
    "    df = df.set_index('datetime')\n",
    "    df = df.fillna(0)\n",
    "    df = df.groupby([pd.TimeGrouper(freq='60Min'), 'squareid', 'countrycode']).sum()\n",
    "    df.to_csv('sms-call-internet-mi-2013-12-0{}.csv'.format(i))"
   ]
  },
  {
   "cell_type": "code",
   "execution_count": 88,
   "metadata": {},
   "outputs": [
    {
     "name": "stderr",
     "output_type": "stream",
     "text": [
      "C:\\Users\\aujas\\AppData\\Local\\Programs\\Python\\Python37\\lib\\site-packages\\ipykernel_launcher.py:7: FutureWarning: pd.TimeGrouper is deprecated and will be removed; Please use pd.Grouper(freq=...)\n",
      "  import sys\n"
     ]
    }
   ],
   "source": [
    "for i in range(0,10):\n",
    "    df = pd.read_csv('sms-call-internet-mi-2013-12-1{}.txt'.format(i), sep='\\t', encoding=\"utf-8-sig\", header=None, \n",
    "                 names=['squareid', 'datetime', 'countrycode', 'smsin','smsout','callin','callout','internet'],\n",
    "                parse_dates=['datetime'], date_parser=lambda x: datetime.datetime.fromtimestamp(float(int(x)/1000.)))\n",
    "    df = df.set_index('datetime')\n",
    "    df = df.fillna(0)\n",
    "    df = df.groupby([pd.TimeGrouper(freq='60Min'), 'squareid', 'countrycode']).sum()\n",
    "    df.to_csv('sms-call-internet-mi-2013-12-1{}.csv'.format(i))"
   ]
  },
  {
   "cell_type": "code",
   "execution_count": 86,
   "metadata": {},
   "outputs": [
    {
     "name": "stderr",
     "output_type": "stream",
     "text": [
      "C:\\Users\\aujas\\AppData\\Local\\Programs\\Python\\Python37\\lib\\site-packages\\ipykernel_launcher.py:7: FutureWarning: pd.TimeGrouper is deprecated and will be removed; Please use pd.Grouper(freq=...)\n",
      "  import sys\n"
     ]
    }
   ],
   "source": [
    "for i in range(0,10):\n",
    "    df = pd.read_csv('sms-call-internet-mi-2013-12-2{}.txt'.format(i), sep='\\t', encoding=\"utf-8-sig\", header=None, \n",
    "                 names=['squareid', 'datetime', 'countrycode', 'smsin','smsout','callin','callout','internet'],\n",
    "                parse_dates=['datetime'], date_parser=lambda x: datetime.datetime.fromtimestamp(float(int(x)/1000.)))\n",
    "    df = df.set_index('datetime')\n",
    "    df = df.fillna(0)\n",
    "    df = df.groupby([pd.TimeGrouper(freq='60Min'), 'squareid', 'countrycode']).sum()\n",
    "    df.to_csv('sms-call-internet-mi-2013-11-2{}.csv'.format(i))"
   ]
  },
  {
   "cell_type": "code",
   "execution_count": 90,
   "metadata": {},
   "outputs": [
    {
     "name": "stderr",
     "output_type": "stream",
     "text": [
      "C:\\Users\\aujas\\AppData\\Local\\Programs\\Python\\Python37\\lib\\site-packages\\ipykernel_launcher.py:7: FutureWarning: pd.TimeGrouper is deprecated and will be removed; Please use pd.Grouper(freq=...)\n",
      "  import sys\n"
     ]
    }
   ],
   "source": [
    "for i in range(0,2):\n",
    "    df = pd.read_csv('sms-call-internet-mi-2013-12-3{}.txt'.format(i), sep='\\t', encoding=\"utf-8-sig\", header=None, \n",
    "                 names=['squareid', 'datetime', 'countrycode', 'smsin','smsout','callin','callout','internet'],\n",
    "                parse_dates=['datetime'], date_parser=lambda x: datetime.datetime.fromtimestamp(float(int(x)/1000.)))\n",
    "    df = df.set_index('datetime')\n",
    "    df = df.fillna(0)\n",
    "    df = df.groupby([pd.TimeGrouper(freq='60Min'), 'squareid', 'countrycode']).sum()\n",
    "    df.to_csv('sms-call-internet-mi-2013-12-3{}.csv'.format(i))"
   ]
  },
  {
   "cell_type": "markdown",
   "metadata": {},
   "source": [
    "#### CSV files: January 2014"
   ]
  },
  {
   "cell_type": "code",
   "execution_count": 92,
   "metadata": {},
   "outputs": [
    {
     "name": "stderr",
     "output_type": "stream",
     "text": [
      "C:\\Users\\aujas\\AppData\\Local\\Programs\\Python\\Python37\\lib\\site-packages\\ipykernel_launcher.py:6: FutureWarning: pd.TimeGrouper is deprecated and will be removed; Please use pd.Grouper(freq=...)\n",
      "  \n"
     ]
    }
   ],
   "source": [
    "df = pd.read_csv('sms-call-internet-mi-2014-01-01.txt', sep='\\t', encoding=\"utf-8-sig\", header=None, \n",
    "                 names=['squareid', 'datetime', 'countrycode', 'smsin','smsout','callin','callout','internet'],\n",
    "                parse_dates=['datetime'], date_parser=lambda x: datetime.datetime.fromtimestamp(float(int(x)/1000.)))\n",
    "df = df.set_index('datetime')\n",
    "df = df.fillna(0)\n",
    "df = df.groupby([pd.TimeGrouper(freq='60Min'), 'squareid', 'countrycode']).sum()\n",
    "df.to_csv('sms-call-internet-mi-2014-01-01.csv')"
   ]
  }
 ],
 "metadata": {
  "kernelspec": {
   "display_name": "Python 3",
   "language": "python",
   "name": "python3"
  },
  "language_info": {
   "codemirror_mode": {
    "name": "ipython",
    "version": 3
   },
   "file_extension": ".py",
   "mimetype": "text/x-python",
   "name": "python",
   "nbconvert_exporter": "python",
   "pygments_lexer": "ipython3",
   "version": "3.7.0"
  }
 },
 "nbformat": 4,
 "nbformat_minor": 4
}
